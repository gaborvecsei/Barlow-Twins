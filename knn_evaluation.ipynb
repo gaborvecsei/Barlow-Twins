{
 "cells": [
  {
   "cell_type": "markdown",
   "id": "881dee94-ab3a-4caf-95c7-e4d1f508c410",
   "metadata": {},
   "source": [
    "# KNN evaluation - Oxford 102 Flowers\n",
    "\n",
    "- [Dataset homepage](https://www.robots.ox.ac.uk/~vgg/data/flowers/102/)\n",
    "\n",
    "In this setup we evaluate the Barlow Twins training by using the embeddings from the backbone (ResNet50) of the model (projection layers are \"dropped\").\n",
    "\n",
    "This evaluation test the representational power of the embeddings from the trained model. Here we expect that embeddings from same classes are closer together based on `L2 distance`.\n",
    "\n",
    "Setup:\n",
    "- Model training (not part of this notebook)\n",
    "- Setup dataset and model\n",
    "- Generate embeddings for both training and testing datasets\n",
    "- Given an embedding from the test dataset, we find the closest `N` embeddings in the train set, and based on the labels we assign a new label to the test example with majority voting"
   ]
  },
  {
   "cell_type": "code",
   "execution_count": 1,
   "id": "e1628107-6264-4905-9cb0-12f631c1ddf9",
   "metadata": {},
   "outputs": [],
   "source": [
    "import numpy as np\n",
    "import tensorflow as tf\n",
    "import scipy.io\n",
    "from tqdm import tqdm\n",
    "import pandas as pd\n",
    "from sklearn.neighbors import KNeighborsClassifier\n",
    "from sklearn.metrics import top_k_accuracy_score, f1_score, classification_report\n",
    "\n",
    "import barlow_twins"
   ]
  },
  {
   "cell_type": "code",
   "execution_count": 2,
   "id": "2bf7ee67-f0e3-488a-9cc7-e21602b3bbb6",
   "metadata": {},
   "outputs": [],
   "source": [
    "tf.config.run_functions_eagerly(True)"
   ]
  },
  {
   "cell_type": "markdown",
   "id": "c8d06c2a-f773-481b-8a7f-6020341dbed4",
   "metadata": {},
   "source": [
    "# Constants"
   ]
  },
  {
   "cell_type": "code",
   "execution_count": null,
   "id": "f1957f67-f76c-4b75-bfd1-b67667e73062",
   "metadata": {},
   "outputs": [],
   "source": [
    "# Data\n",
    "IMAGE_FOLDER = \"/data\"\n",
    "TRAIN_TEST_SPLIT_IDS_FILE = \"/data/setid.mat\"\n",
    "LABELS_FILE = \"/data/imagelabels.mat\"\n",
    "\n",
    "# Image\n",
    "IMAGE_HEIGHT = 224\n",
    "IMAGE_WIDTH = 224\n",
    "\n",
    "# Model & Eval\n",
    "MODEL_WEIGHTS_PATH = \"/code/logs_full_run/test_adam/checkpoint.h5\"\n",
    "BATCH_SIZE = 64\n",
    "NB_NEIGHBORS = 5"
   ]
  },
  {
   "cell_type": "markdown",
   "id": "9be1408f-92b6-42f0-922e-4e8e0d305f4c",
   "metadata": {},
   "source": [
    "# Dataset"
   ]
  },
  {
   "cell_type": "code",
   "execution_count": 3,
   "id": "08ef3736-50cd-4334-a738-a25eaaff335d",
   "metadata": {},
   "outputs": [],
   "source": [
    "image_paths = sorted(barlow_twins.data._get_image_paths(IMAGE_FOLDER))\n",
    "image_ids = [int(x.stem.split(\"_\")[-1]) for x in image_paths]"
   ]
  },
  {
   "cell_type": "markdown",
   "id": "aa47cb01-7586-4495-b115-867fac816078",
   "metadata": {},
   "source": [
    "## Train test split"
   ]
  },
  {
   "cell_type": "code",
   "execution_count": 4,
   "id": "12ced3c8-68a6-41c6-b821-f955ad40df3c",
   "metadata": {},
   "outputs": [],
   "source": [
    "train_test_dict = scipy.io.loadmat(TRAIN_TEST_SPLIT_IDS_FILE)\n",
    "train_ids = sorted(train_test_dict[\"trnid\"][0])\n",
    "val_ids = sorted(train_test_dict[\"valid\"][0])\n",
    "test_ids = sorted(train_test_dict[\"tstid\"][0])"
   ]
  },
  {
   "cell_type": "code",
   "execution_count": 5,
   "id": "c4840d79-65cc-4965-8ebe-cd319f34fa0f",
   "metadata": {},
   "outputs": [
    {
     "data": {
      "text/plain": [
       "(1020, 1020, 6149)"
      ]
     },
     "execution_count": 5,
     "metadata": {},
     "output_type": "execute_result"
    }
   ],
   "source": [
    "len(train_ids), len(val_ids), len(test_ids)"
   ]
  },
  {
   "cell_type": "markdown",
   "id": "158b58ff-7c86-4a32-96f7-2a3df34ab4bb",
   "metadata": {},
   "source": [
    "## Labels"
   ]
  },
  {
   "cell_type": "code",
   "execution_count": 6,
   "id": "f94c745a-9381-494a-a85d-c778b7568229",
   "metadata": {},
   "outputs": [],
   "source": [
    "labels_dict = scipy.io.loadmat(LABELS_FILE)\n",
    "labels = labels_dict[\"labels\"][0]"
   ]
  },
  {
   "cell_type": "markdown",
   "id": "028f1f68-995c-4103-82e7-06b2c64db729",
   "metadata": {},
   "source": [
    "## Dataframes"
   ]
  },
  {
   "cell_type": "code",
   "execution_count": 8,
   "id": "016fc7c2-6ad6-4ce1-9e56-551db35cffde",
   "metadata": {},
   "outputs": [],
   "source": [
    "df = pd.DataFrame({\"image_path\":list(map(str, image_paths)),\n",
    "                   \"image_id\":image_ids,\n",
    "                   \"label\":labels})\n",
    "df.set_index(\"image_id\", inplace=True)"
   ]
  },
  {
   "cell_type": "code",
   "execution_count": 9,
   "id": "04750d35-52b2-4cfd-9249-aa7477a34a7d",
   "metadata": {},
   "outputs": [],
   "source": [
    "train_df = df.loc[train_ids]\n",
    "val_df = df.loc[val_ids]\n",
    "train_val_df = pd.concat((train_df, val_df))\n",
    "test_df = df.loc[test_ids]"
   ]
  },
  {
   "cell_type": "markdown",
   "id": "13314dec-5631-4aec-a7c9-51be1f7080b4",
   "metadata": {},
   "source": [
    "## tf.data.Dataset"
   ]
  },
  {
   "cell_type": "code",
   "execution_count": 10,
   "id": "9f15d68a-f203-47dc-a369-835e6b38b880",
   "metadata": {},
   "outputs": [],
   "source": [
    "# def make_dataset(df, augment:bool=False, batch_size:int=4):\n",
    "#     dataset_images = tf.data.Dataset.from_tensor_slices(df[\"image_path\"].values)\n",
    "# \n",
    "#     dataset_images = dataset_images.map(barlow_twins.data._read_image_from_path,\n",
    "#                                         num_parallel_calls=tf.data.AUTOTUNE)\n",
    "#     if augment:\n",
    "#         dataset_images = dataset_images.map(tf.image.random_flip_left_right,\n",
    "#                                             num_parallel_calls=tf.data.AUTOTUNE)\n",
    "# \n",
    "#     dataset_labels = tf.data.Dataset.from_tensor_slices(df[\"label\"].values)\n",
    "#     dataset = tf.data.Dataset.zip((dataset_images, dataset_labels))\n",
    "#     \n",
    "#     dataset = dataset.batch(batch_size).prefetch(tf.data.experimental.AUTOTUNE)\n",
    "#     return dataset"
   ]
  },
  {
   "cell_type": "code",
   "execution_count": 11,
   "id": "c11aec3f-45d4-44b2-966b-54f7bc122ecf",
   "metadata": {},
   "outputs": [],
   "source": [
    "def image_dataset(df, augment:bool=False, batch_size:int=4):\n",
    "    dataset_images = tf.data.Dataset.from_tensor_slices(df[\"image_path\"].values)\n",
    "\n",
    "    dataset_images = dataset_images.map(barlow_twins.data._read_image_from_path,\n",
    "                                        num_parallel_calls=tf.data.AUTOTUNE)\n",
    "    dataset_images = dataset_images.map(lambda x: tf.image.resize(x, (224, 224)))\n",
    "    if augment:\n",
    "        dataset_images = dataset_images.map(tf.image.random_flip_left_right,\n",
    "                                            num_parallel_calls=tf.data.AUTOTUNE)\n",
    "    \n",
    "    dataset_images = dataset_images.batch(batch_size).prefetch(tf.data.experimental.AUTOTUNE)\n",
    "    return dataset_images"
   ]
  },
  {
   "cell_type": "markdown",
   "id": "346d128b-cb60-41b9-96d7-2037261cd1ff",
   "metadata": {},
   "source": [
    "# Model"
   ]
  },
  {
   "cell_type": "code",
   "execution_count": 12,
   "id": "de1de533-4784-44cd-8368-fc98e0d5492a",
   "metadata": {},
   "outputs": [],
   "source": [
    "model = barlow_twins.BarlowTwinsModel(input_height=IMAGE_HEIGHT,\n",
    "                                      input_width=IMAGE_WIDTH,\n",
    "                                      projection_units=None,\n",
    "                                      drop_projection_layer=True)"
   ]
  },
  {
   "cell_type": "code",
   "execution_count": 13,
   "id": "c5045519-48e0-4157-8bc8-54823470d4dd",
   "metadata": {},
   "outputs": [],
   "source": [
    "dummy_input = np.zeros((1, IMAGE_HEIGHT, IMAGE_WIDTH, 3), dtype=np.float32)\n",
    "dummy_output = model(dummy_input)"
   ]
  },
  {
   "cell_type": "code",
   "execution_count": 14,
   "id": "fb9e3008-8bee-4f42-879e-31b85abe17b5",
   "metadata": {},
   "outputs": [],
   "source": [
    "model.load_weights(MODEL_WEIGHTS_PATH, by_name=True)"
   ]
  },
  {
   "cell_type": "markdown",
   "id": "4e9ff3e5-f64c-432c-b5c2-91d7565a39b0",
   "metadata": {},
   "source": [
    "# KNN"
   ]
  },
  {
   "cell_type": "markdown",
   "id": "c864cdcd-be02-4bd1-8663-cd2499027eb2",
   "metadata": {},
   "source": [
    "## Generating the embeddings"
   ]
  },
  {
   "cell_type": "code",
   "execution_count": 15,
   "id": "63f5d8e2-22fc-4aa4-91e8-a55d09691d15",
   "metadata": {},
   "outputs": [],
   "source": [
    "def generate_embeddings(model, dataset, batch_size:int=1):\n",
    "    embeddings = []\n",
    "    \n",
    "    for i, x in tqdm(enumerate(dataset)):\n",
    "        batch_embeddings = model(x)\n",
    "        embeddings.extend(batch_embeddings)\n",
    "        \n",
    "    return np.array(embeddings)"
   ]
  },
  {
   "cell_type": "code",
   "execution_count": 17,
   "id": "1450eb49-ca67-4a95-af95-53b2b1a3cc99",
   "metadata": {},
   "outputs": [
    {
     "name": "stderr",
     "output_type": "stream",
     "text": [
      "/usr/local/lib/python3.6/dist-packages/tensorflow/python/data/ops/dataset_ops.py:3504: UserWarning: Even though the tf.config.experimental_run_functions_eagerly option is set, this option does not apply to tf.data functions. tf.data functions are still traced and executed as graphs.\n",
      "  \"Even though the tf.config.experimental_run_functions_eagerly \"\n",
      "32it [00:02, 11.03it/s]\n"
     ]
    }
   ],
   "source": [
    "train_dataset = image_dataset(train_val_df, batch_size=BATCH_SIZE)\n",
    "train_embeddings = generate_embeddings(model, train_dataset, BATCH_SIZE)"
   ]
  },
  {
   "cell_type": "code",
   "execution_count": 18,
   "id": "6b685ded-f009-41a0-998f-851bfe979b49",
   "metadata": {},
   "outputs": [
    {
     "name": "stderr",
     "output_type": "stream",
     "text": [
      "97it [00:07, 13.59it/s]\n"
     ]
    }
   ],
   "source": [
    "test_dataset = image_dataset(test_df, batch_size=BATCH_SIZE)\n",
    "test_embeddings = generate_embeddings(model, test_dataset, BATCH_SIZE)"
   ]
  },
  {
   "cell_type": "markdown",
   "id": "221dc84d-335c-464c-b2d0-a88e9fbcccec",
   "metadata": {},
   "source": [
    "## Evaluation"
   ]
  },
  {
   "cell_type": "code",
   "execution_count": 19,
   "id": "fb55b3fb-d2c5-46b7-9b43-99753f704e93",
   "metadata": {},
   "outputs": [],
   "source": [
    "knn = KNeighborsClassifier(n_neighbors=NB_NEIGHBORS)"
   ]
  },
  {
   "cell_type": "code",
   "execution_count": 20,
   "id": "2daefcc1-c48d-4501-a83f-236cae1b9bf5",
   "metadata": {},
   "outputs": [],
   "source": [
    "knn.fit(train_embeddings, train_val_df[\"label\"].values);"
   ]
  },
  {
   "cell_type": "code",
   "execution_count": 21,
   "id": "3b3786dd-4a43-4e12-aea3-e91e4f559a11",
   "metadata": {},
   "outputs": [],
   "source": [
    "pred_label_scores = knn.predict_proba(test_embeddings)\n",
    "pred_labels = knn.predict(test_embeddings)"
   ]
  },
  {
   "cell_type": "code",
   "execution_count": 22,
   "id": "f503873f-d681-4494-b232-8923dba5c04c",
   "metadata": {},
   "outputs": [],
   "source": [
    "test_labels = test_df[\"label\"].values\n",
    "\n",
    "top_1_acc = top_k_accuracy_score(test_labels, pred_label_scores, k=1)\n",
    "top_5_acc = top_k_accuracy_score(test_labels, pred_label_scores, k=5)\n",
    "report = classification_report(test_labels, pred_labels)\n",
    "f1 = f1_score(test_labels, pred_labels, average=\"micro\")"
   ]
  },
  {
   "cell_type": "code",
   "execution_count": 25,
   "id": "03f24b3e-ebca-48af-8c32-5da6d025c75a",
   "metadata": {},
   "outputs": [
    {
     "name": "stdout",
     "output_type": "stream",
     "text": [
      "Top 1 accuracy: 0.1699\n",
      "Top 5 accuracy: 0.4062\n",
      "F1: 0.1612\n"
     ]
    }
   ],
   "source": [
    "print(f\"Top 1 accuracy: {top_1_acc:.4f}\\nTop 5 accuracy: {top_5_acc:.4f}\\nF1: {f1:.4f}\")"
   ]
  },
  {
   "cell_type": "code",
   "execution_count": 24,
   "id": "df386890-1a86-40ee-b3a7-0265e6b33f3f",
   "metadata": {},
   "outputs": [
    {
     "name": "stdout",
     "output_type": "stream",
     "text": [
      "              precision    recall  f1-score   support\n",
      "\n",
      "           1       0.03      0.25      0.05        20\n",
      "           2       0.16      0.42      0.23        40\n",
      "           3       0.03      0.25      0.05        20\n",
      "           4       0.02      0.11      0.04        36\n",
      "           5       0.13      0.49      0.20        45\n",
      "           6       0.04      0.24      0.07        25\n",
      "           7       0.08      0.45      0.13        20\n",
      "           8       0.08      0.22      0.12        65\n",
      "           9       0.10      0.38      0.16        26\n",
      "          10       0.23      0.72      0.35        25\n",
      "          11       0.03      0.10      0.05        67\n",
      "          12       0.27      0.30      0.28        67\n",
      "          13       0.08      0.17      0.11        29\n",
      "          14       0.11      0.21      0.15        28\n",
      "          15       0.05      0.31      0.09        29\n",
      "          16       0.03      0.14      0.05        21\n",
      "          17       0.07      0.12      0.09        65\n",
      "          18       0.10      0.21      0.13        62\n",
      "          19       0.03      0.07      0.04        29\n",
      "          20       0.13      0.14      0.13        36\n",
      "          21       0.03      0.10      0.04        20\n",
      "          22       0.32      0.33      0.32        39\n",
      "          23       0.08      0.06      0.07        71\n",
      "          24       0.01      0.05      0.02        22\n",
      "          25       0.03      0.05      0.04        21\n",
      "          26       0.06      0.24      0.10        21\n",
      "          27       0.15      0.55      0.24        20\n",
      "          28       0.19      0.24      0.21        46\n",
      "          29       0.28      0.21      0.24        58\n",
      "          30       0.22      0.31      0.26        65\n",
      "          31       0.06      0.06      0.06        32\n",
      "          32       0.05      0.08      0.06        25\n",
      "          33       0.00      0.00      0.00        26\n",
      "          34       0.08      0.25      0.12        20\n",
      "          35       0.20      0.48      0.29        23\n",
      "          36       0.26      0.42      0.32        55\n",
      "          37       0.33      0.32      0.33        88\n",
      "          38       0.20      0.19      0.20        36\n",
      "          39       0.00      0.00      0.00        21\n",
      "          40       0.00      0.00      0.00        47\n",
      "          41       0.07      0.03      0.04       107\n",
      "          42       0.00      0.00      0.00        39\n",
      "          43       0.08      0.02      0.03       110\n",
      "          44       0.09      0.07      0.08        73\n",
      "          45       0.12      0.30      0.17        20\n",
      "          46       0.45      0.22      0.29       176\n",
      "          47       0.22      0.32      0.26        47\n",
      "          48       0.19      0.20      0.19        51\n",
      "          49       0.20      0.31      0.25        29\n",
      "          50       0.31      0.21      0.25        72\n",
      "          51       0.38      0.13      0.20       238\n",
      "          52       0.38      0.26      0.31        65\n",
      "          53       0.03      0.01      0.02        73\n",
      "          54       0.19      0.24      0.22        41\n",
      "          55       0.30      0.24      0.26        51\n",
      "          56       0.35      0.55      0.42        89\n",
      "          57       0.42      0.40      0.41        47\n",
      "          58       0.49      0.56      0.52        94\n",
      "          59       0.17      0.53      0.26        47\n",
      "          60       0.20      0.12      0.15        89\n",
      "          61       0.22      0.53      0.31        30\n",
      "          62       0.11      0.17      0.13        35\n",
      "          63       0.28      0.71      0.40        34\n",
      "          64       0.31      0.50      0.38        32\n",
      "          65       0.50      0.23      0.32        82\n",
      "          66       0.58      0.71      0.64        41\n",
      "          67       0.04      0.05      0.04        22\n",
      "          68       0.33      0.12      0.17        34\n",
      "          69       0.19      0.18      0.18        34\n",
      "          70       0.06      0.05      0.05        42\n",
      "          71       0.34      0.34      0.34        58\n",
      "          72       0.14      0.11      0.12        76\n",
      "          73       0.07      0.01      0.01       174\n",
      "          74       0.47      0.10      0.16       151\n",
      "          75       0.40      0.08      0.13       100\n",
      "          76       0.35      0.08      0.13        87\n",
      "          77       0.56      0.06      0.11       231\n",
      "          78       0.36      0.19      0.25       117\n",
      "          79       0.22      0.29      0.25        21\n",
      "          80       0.00      0.00      0.00        85\n",
      "          81       0.21      0.03      0.05       146\n",
      "          82       0.33      0.05      0.09        92\n",
      "          83       0.03      0.01      0.01       111\n",
      "          84       0.00      0.00      0.00        66\n",
      "          85       0.04      0.02      0.03        43\n",
      "          86       0.09      0.08      0.08        38\n",
      "          87       0.14      0.12      0.13        43\n",
      "          88       0.17      0.01      0.03       134\n",
      "          89       0.56      0.22      0.32       164\n",
      "          90       0.07      0.02      0.03        62\n",
      "          91       0.50      0.11      0.18        56\n",
      "          92       0.27      0.09      0.13        46\n",
      "          93       0.00      0.00      0.00        26\n",
      "          94       0.44      0.03      0.05       142\n",
      "          95       0.08      0.01      0.02       108\n",
      "          96       0.05      0.01      0.02        71\n",
      "          97       0.12      0.04      0.06        46\n",
      "          98       0.09      0.02      0.03        62\n",
      "          99       0.07      0.07      0.07        43\n",
      "         100       0.21      0.14      0.17        29\n",
      "         101       0.09      0.08      0.08        38\n",
      "         102       0.22      0.07      0.11        28\n",
      "\n",
      "    accuracy                           0.16      6149\n",
      "   macro avg       0.18      0.19      0.15      6149\n",
      "weighted avg       0.23      0.16      0.15      6149\n",
      "\n"
     ]
    }
   ],
   "source": [
    "print(report)"
   ]
  }
 ],
 "metadata": {
  "kernelspec": {
   "display_name": "Python 3",
   "language": "python",
   "name": "python3"
  },
  "language_info": {
   "codemirror_mode": {
    "name": "ipython",
    "version": 3
   },
   "file_extension": ".py",
   "mimetype": "text/x-python",
   "name": "python",
   "nbconvert_exporter": "python",
   "pygments_lexer": "ipython3",
   "version": "3.6.9"
  }
 },
 "nbformat": 4,
 "nbformat_minor": 5
}
