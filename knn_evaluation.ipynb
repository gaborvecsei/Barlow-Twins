{
 "cells": [
  {
   "cell_type": "markdown",
   "id": "881dee94-ab3a-4caf-95c7-e4d1f508c410",
   "metadata": {},
   "source": [
    "# KNN evaluation - Oxford 102 Flowers\n",
    "\n",
    "- [Dataset homepage](https://www.robots.ox.ac.uk/~vgg/data/flowers/102/)\n",
    "\n",
    "In this setup we evaluate the Barlow Twins training by using the embeddings from the backbone (ResNet50) of the model (projection layers are \"dropped\").\n",
    "\n",
    "This evaluation tests the representational power of the embeddings from the trained model. Here we expect that embeddings from same classes are closer together based on `L2 distance`.\n",
    "\n",
    "*I would suggest that first you should run this notebook with a randomly initialized model (don't load the weights) so you can have a baseline.*\n",
    "\n",
    "**Setup:**\n",
    "- Model training (not part of this notebook)\n",
    "- Setup dataset and model\n",
    "- Generate embeddings for both training and testing datasets\n",
    "- Given an embedding from the test dataset, we find the closest `N` embeddings in the train set, and based on the labels we assign a new label to the test example with majority voting\n",
    "\n",
    "(I included `KNN`, `SVM`, and `Random Forest` as well)"
   ]
  },
  {
   "cell_type": "code",
   "execution_count": null,
   "id": "e1628107-6264-4905-9cb0-12f631c1ddf9",
   "metadata": {},
   "outputs": [],
   "source": [
    "import numpy as np\n",
    "import tensorflow as tf\n",
    "import scipy.io\n",
    "from tqdm import tqdm\n",
    "import pandas as pd\n",
    "from sklearn.neighbors import KNeighborsClassifier\n",
    "from sklearn.metrics import top_k_accuracy_score, f1_score, classification_report\n",
    "from sklearn.svm import SVC\n",
    "from sklearn.ensemble import RandomForestClassifier\n",
    "\n",
    "import barlow_twins"
   ]
  },
  {
   "cell_type": "code",
   "execution_count": null,
   "id": "2bf7ee67-f0e3-488a-9cc7-e21602b3bbb6",
   "metadata": {},
   "outputs": [],
   "source": [
    "tf.config.run_functions_eagerly(True)"
   ]
  },
  {
   "cell_type": "markdown",
   "id": "c8d06c2a-f773-481b-8a7f-6020341dbed4",
   "metadata": {},
   "source": [
    "# Constants"
   ]
  },
  {
   "cell_type": "code",
   "execution_count": null,
   "id": "f1957f67-f76c-4b75-bfd1-b67667e73062",
   "metadata": {},
   "outputs": [],
   "source": [
    "# Data\n",
    "IMAGE_FOLDER = \"/data\"\n",
    "TRAIN_TEST_SPLIT_IDS_FILE = \"/data/setid.mat\"\n",
    "LABELS_FILE = \"/data/imagelabels.mat\"\n",
    "\n",
    "# Image\n",
    "IMAGE_HEIGHT = 224\n",
    "IMAGE_WIDTH = 224\n",
    "\n",
    "# Model & Eval\n",
    "SKIP_WEIGHT_LOADING = False\n",
    "MODEL_WEIGHTS_PATH = \"/code/logs/flowers_102_sgd/checkpoint.h5\"\n",
    "BATCH_SIZE = 64\n",
    "NB_NEIGHBORS = 5"
   ]
  },
  {
   "cell_type": "markdown",
   "id": "9be1408f-92b6-42f0-922e-4e8e0d305f4c",
   "metadata": {},
   "source": [
    "# Dataset"
   ]
  },
  {
   "cell_type": "code",
   "execution_count": null,
   "id": "08ef3736-50cd-4334-a738-a25eaaff335d",
   "metadata": {},
   "outputs": [],
   "source": [
    "image_paths = sorted(barlow_twins.data._get_image_paths(IMAGE_FOLDER))\n",
    "image_ids = [int(x.stem.split(\"_\")[-1]) for x in image_paths]"
   ]
  },
  {
   "cell_type": "markdown",
   "id": "aa47cb01-7586-4495-b115-867fac816078",
   "metadata": {},
   "source": [
    "## Train test split"
   ]
  },
  {
   "cell_type": "code",
   "execution_count": null,
   "id": "12ced3c8-68a6-41c6-b821-f955ad40df3c",
   "metadata": {},
   "outputs": [],
   "source": [
    "train_test_dict = scipy.io.loadmat(TRAIN_TEST_SPLIT_IDS_FILE)\n",
    "train_ids = sorted(train_test_dict[\"trnid\"][0])\n",
    "val_ids = sorted(train_test_dict[\"valid\"][0])\n",
    "test_ids = sorted(train_test_dict[\"tstid\"][0])"
   ]
  },
  {
   "cell_type": "code",
   "execution_count": null,
   "id": "c4840d79-65cc-4965-8ebe-cd319f34fa0f",
   "metadata": {},
   "outputs": [],
   "source": [
    "len(train_ids), len(val_ids), len(test_ids)"
   ]
  },
  {
   "cell_type": "markdown",
   "id": "158b58ff-7c86-4a32-96f7-2a3df34ab4bb",
   "metadata": {},
   "source": [
    "## Labels"
   ]
  },
  {
   "cell_type": "code",
   "execution_count": null,
   "id": "f94c745a-9381-494a-a85d-c778b7568229",
   "metadata": {},
   "outputs": [],
   "source": [
    "labels_dict = scipy.io.loadmat(LABELS_FILE)\n",
    "labels = labels_dict[\"labels\"][0]"
   ]
  },
  {
   "cell_type": "markdown",
   "id": "028f1f68-995c-4103-82e7-06b2c64db729",
   "metadata": {},
   "source": [
    "## Dataframes"
   ]
  },
  {
   "cell_type": "code",
   "execution_count": null,
   "id": "016fc7c2-6ad6-4ce1-9e56-551db35cffde",
   "metadata": {},
   "outputs": [],
   "source": [
    "df = pd.DataFrame({\"image_path\":list(map(str, image_paths)),\n",
    "                   \"image_id\":image_ids,\n",
    "                   \"label\":labels})\n",
    "df.set_index(\"image_id\", inplace=True)"
   ]
  },
  {
   "cell_type": "code",
   "execution_count": null,
   "id": "04750d35-52b2-4cfd-9249-aa7477a34a7d",
   "metadata": {},
   "outputs": [],
   "source": [
    "train_df = df.loc[train_ids]\n",
    "val_df = df.loc[val_ids]\n",
    "train_val_df = pd.concat((train_df, val_df))\n",
    "test_df = df.loc[test_ids]"
   ]
  },
  {
   "cell_type": "markdown",
   "id": "13314dec-5631-4aec-a7c9-51be1f7080b4",
   "metadata": {},
   "source": [
    "## tf.data.Dataset"
   ]
  },
  {
   "cell_type": "code",
   "execution_count": null,
   "id": "9f15d68a-f203-47dc-a369-835e6b38b880",
   "metadata": {},
   "outputs": [],
   "source": [
    "# def make_dataset(df, augment:bool=False, batch_size:int=4):\n",
    "#     dataset_images = tf.data.Dataset.from_tensor_slices(df[\"image_path\"].values)\n",
    "# \n",
    "#     dataset_images = dataset_images.map(barlow_twins.data._read_image_from_path,\n",
    "#                                         num_parallel_calls=tf.data.AUTOTUNE)\n",
    "#     if augment:\n",
    "#         dataset_images = dataset_images.map(tf.image.random_flip_left_right,\n",
    "#                                             num_parallel_calls=tf.data.AUTOTUNE)\n",
    "# \n",
    "#     dataset_labels = tf.data.Dataset.from_tensor_slices(df[\"label\"].values)\n",
    "#     dataset = tf.data.Dataset.zip((dataset_images, dataset_labels))\n",
    "#     \n",
    "#     dataset = dataset.batch(batch_size).prefetch(tf.data.experimental.AUTOTUNE)\n",
    "#     return dataset"
   ]
  },
  {
   "cell_type": "code",
   "execution_count": null,
   "id": "c11aec3f-45d4-44b2-966b-54f7bc122ecf",
   "metadata": {},
   "outputs": [],
   "source": [
    "def image_dataset(df, augment:bool=False, batch_size:int=4):\n",
    "    dataset_images = tf.data.Dataset.from_tensor_slices(df[\"image_path\"].values)\n",
    "\n",
    "    dataset_images = dataset_images.map(barlow_twins.data._read_image_from_path,\n",
    "                                        num_parallel_calls=tf.data.AUTOTUNE)\n",
    "    dataset_images = dataset_images.map(lambda x: tf.image.resize(x, (224, 224)))\n",
    "    if augment:\n",
    "        dataset_images = dataset_images.map(tf.image.random_flip_left_right,\n",
    "                                            num_parallel_calls=tf.data.AUTOTUNE)\n",
    "    \n",
    "    dataset_images = dataset_images.batch(batch_size).prefetch(tf.data.experimental.AUTOTUNE)\n",
    "    return dataset_images"
   ]
  },
  {
   "cell_type": "markdown",
   "id": "346d128b-cb60-41b9-96d7-2037261cd1ff",
   "metadata": {},
   "source": [
    "# Model"
   ]
  },
  {
   "cell_type": "code",
   "execution_count": null,
   "id": "de1de533-4784-44cd-8368-fc98e0d5492a",
   "metadata": {},
   "outputs": [],
   "source": [
    "model = barlow_twins.BarlowTwinsModel(input_height=IMAGE_HEIGHT,\n",
    "                                      input_width=IMAGE_WIDTH,\n",
    "                                      projection_units=None,\n",
    "                                      drop_projection_layer=True)"
   ]
  },
  {
   "cell_type": "code",
   "execution_count": null,
   "id": "c5045519-48e0-4157-8bc8-54823470d4dd",
   "metadata": {},
   "outputs": [],
   "source": [
    "dummy_input = np.zeros((1, IMAGE_HEIGHT, IMAGE_WIDTH, 3), dtype=np.float32)\n",
    "dummy_output = model(dummy_input)"
   ]
  },
  {
   "cell_type": "code",
   "execution_count": null,
   "id": "fb9e3008-8bee-4f42-879e-31b85abe17b5",
   "metadata": {},
   "outputs": [],
   "source": [
    "if not SKIP_WEIGHT_LOADING or (MODEL_WEIGHTS_PATH is not None):\n",
    "    model.load_weights(MODEL_WEIGHTS_PATH, by_name=True)\n",
    "else:\n",
    "    print(\"The model will be randomly initializaed\")"
   ]
  },
  {
   "cell_type": "markdown",
   "id": "4e9ff3e5-f64c-432c-b5c2-91d7565a39b0",
   "metadata": {},
   "source": [
    "# KNN"
   ]
  },
  {
   "cell_type": "markdown",
   "id": "c864cdcd-be02-4bd1-8663-cd2499027eb2",
   "metadata": {},
   "source": [
    "## Generating the embeddings"
   ]
  },
  {
   "cell_type": "code",
   "execution_count": null,
   "id": "63f5d8e2-22fc-4aa4-91e8-a55d09691d15",
   "metadata": {},
   "outputs": [],
   "source": [
    "def generate_embeddings(model, dataset, batch_size:int=1):\n",
    "    embeddings = []\n",
    "    \n",
    "    for i, x in tqdm(enumerate(dataset)):\n",
    "        batch_embeddings = model(x)\n",
    "        embeddings.extend(batch_embeddings)\n",
    "        \n",
    "    return np.array(embeddings)"
   ]
  },
  {
   "cell_type": "code",
   "execution_count": null,
   "id": "1450eb49-ca67-4a95-af95-53b2b1a3cc99",
   "metadata": {},
   "outputs": [],
   "source": [
    "train_dataset = image_dataset(train_val_df, batch_size=BATCH_SIZE)\n",
    "train_embeddings = generate_embeddings(model, train_dataset, BATCH_SIZE)"
   ]
  },
  {
   "cell_type": "code",
   "execution_count": null,
   "id": "6b685ded-f009-41a0-998f-851bfe979b49",
   "metadata": {},
   "outputs": [],
   "source": [
    "test_dataset = image_dataset(test_df, batch_size=BATCH_SIZE)\n",
    "test_embeddings = generate_embeddings(model, test_dataset, BATCH_SIZE)"
   ]
  },
  {
   "cell_type": "markdown",
   "id": "221dc84d-335c-464c-b2d0-a88e9fbcccec",
   "metadata": {},
   "source": [
    "## Evaluation"
   ]
  },
  {
   "cell_type": "markdown",
   "id": "7977bed3-eb94-4314-af54-cf7299dffbc4",
   "metadata": {},
   "source": [
    "## KNN"
   ]
  },
  {
   "cell_type": "code",
   "execution_count": null,
   "id": "fb55b3fb-d2c5-46b7-9b43-99753f704e93",
   "metadata": {},
   "outputs": [],
   "source": [
    "knn = KNeighborsClassifier(n_neighbors=NB_NEIGHBORS)"
   ]
  },
  {
   "cell_type": "code",
   "execution_count": null,
   "id": "2daefcc1-c48d-4501-a83f-236cae1b9bf5",
   "metadata": {},
   "outputs": [],
   "source": [
    "knn.fit(train_embeddings, train_val_df[\"label\"].values);"
   ]
  },
  {
   "cell_type": "code",
   "execution_count": null,
   "id": "3b3786dd-4a43-4e12-aea3-e91e4f559a11",
   "metadata": {},
   "outputs": [],
   "source": [
    "pred_label_scores = knn.predict_proba(test_embeddings)\n",
    "pred_labels = knn.predict(test_embeddings)"
   ]
  },
  {
   "cell_type": "code",
   "execution_count": null,
   "id": "f503873f-d681-4494-b232-8923dba5c04c",
   "metadata": {},
   "outputs": [],
   "source": [
    "test_labels = test_df[\"label\"].values\n",
    "\n",
    "top_1_acc = top_k_accuracy_score(test_labels, pred_label_scores, k=1)\n",
    "top_5_acc = top_k_accuracy_score(test_labels, pred_label_scores, k=5)\n",
    "report = classification_report(test_labels, pred_labels)\n",
    "f1 = f1_score(test_labels, pred_labels, average=\"micro\")"
   ]
  },
  {
   "cell_type": "code",
   "execution_count": null,
   "id": "03f24b3e-ebca-48af-8c32-5da6d025c75a",
   "metadata": {},
   "outputs": [],
   "source": [
    "print(f\"Top 1 accuracy: {top_1_acc:.4f}\\nTop 5 accuracy: {top_5_acc:.4f}\\nF1: {f1:.4f}\")"
   ]
  },
  {
   "cell_type": "code",
   "execution_count": null,
   "id": "df386890-1a86-40ee-b3a7-0265e6b33f3f",
   "metadata": {},
   "outputs": [],
   "source": [
    "# print(report)"
   ]
  },
  {
   "cell_type": "markdown",
   "id": "36a89380-29cd-465b-b256-e689f5792840",
   "metadata": {},
   "source": [
    "## SVM"
   ]
  },
  {
   "cell_type": "code",
   "execution_count": null,
   "id": "dbc819ab-7fbe-4eae-b2a5-99ba752da030",
   "metadata": {},
   "outputs": [],
   "source": [
    "svm = SVC(probability=True)\n",
    "svm.fit(train_embeddings, train_val_df[\"label\"].values);"
   ]
  },
  {
   "cell_type": "code",
   "execution_count": null,
   "id": "01b7d778-7459-419b-8688-2f342158bda0",
   "metadata": {},
   "outputs": [],
   "source": [
    "pred_label_scores = svm.predict_proba(test_embeddings)\n",
    "pred_labels = svm.predict(test_embeddings)"
   ]
  },
  {
   "cell_type": "code",
   "execution_count": null,
   "id": "79be1d15-e538-49a8-a74e-5885d6265575",
   "metadata": {},
   "outputs": [],
   "source": [
    "test_labels = test_df[\"label\"].values\n",
    "\n",
    "top_1_acc = top_k_accuracy_score(test_labels, pred_label_scores, k=1)\n",
    "top_5_acc = top_k_accuracy_score(test_labels, pred_label_scores, k=5)\n",
    "report = classification_report(test_labels, pred_labels)\n",
    "f1 = f1_score(test_labels, pred_labels, average=\"micro\")"
   ]
  },
  {
   "cell_type": "code",
   "execution_count": null,
   "id": "6e763438-caa2-4c3a-b1bb-7c7f110b84f1",
   "metadata": {},
   "outputs": [],
   "source": [
    "print(f\"Top 1 accuracy: {top_1_acc:.4f}\\nTop 5 accuracy: {top_5_acc:.4f}\\nF1: {f1:.4f}\")"
   ]
  },
  {
   "cell_type": "markdown",
   "id": "98d2c9bf-18d5-4acd-b39c-bb409fc7bec5",
   "metadata": {},
   "source": [
    "## Random Forest"
   ]
  },
  {
   "cell_type": "code",
   "execution_count": null,
   "id": "244a41bf-cfc0-43e2-9947-df70a77b399f",
   "metadata": {},
   "outputs": [],
   "source": [
    "forest = RandomForestClassifier()\n",
    "forest.fit(train_embeddings, train_val_df[\"label\"].values);"
   ]
  },
  {
   "cell_type": "code",
   "execution_count": null,
   "id": "34a89a49-e8b6-4348-a317-004addb0bdb0",
   "metadata": {},
   "outputs": [],
   "source": [
    "pred_label_scores = knn.predict_proba(test_embeddings)\n",
    "pred_labels = knn.predict(test_embeddings)"
   ]
  },
  {
   "cell_type": "code",
   "execution_count": null,
   "id": "e73d8470-192b-405b-acca-28e4a8f30fdb",
   "metadata": {},
   "outputs": [],
   "source": [
    "test_labels = test_df[\"label\"].values\n",
    "\n",
    "top_1_acc = top_k_accuracy_score(test_labels, pred_label_scores, k=1)\n",
    "top_5_acc = top_k_accuracy_score(test_labels, pred_label_scores, k=5)\n",
    "report = classification_report(test_labels, pred_labels)\n",
    "f1 = f1_score(test_labels, pred_labels, average=\"micro\")"
   ]
  },
  {
   "cell_type": "code",
   "execution_count": null,
   "id": "52a07816-3134-49fb-9e2a-3ffdb7d20cc3",
   "metadata": {},
   "outputs": [],
   "source": [
    "print(f\"Top 1 accuracy: {top_1_acc:.4f}\\nTop 5 accuracy: {top_5_acc:.4f}\\nF1: {f1:.4f}\")"
   ]
  }
 ],
 "metadata": {
  "kernelspec": {
   "display_name": "Python 3",
   "language": "python",
   "name": "python3"
  },
  "language_info": {
   "codemirror_mode": {
    "name": "ipython",
    "version": 3
   },
   "file_extension": ".py",
   "mimetype": "text/x-python",
   "name": "python",
   "nbconvert_exporter": "python",
   "pygments_lexer": "ipython3",
   "version": "3.6.9"
  }
 },
 "nbformat": 4,
 "nbformat_minor": 5
}
